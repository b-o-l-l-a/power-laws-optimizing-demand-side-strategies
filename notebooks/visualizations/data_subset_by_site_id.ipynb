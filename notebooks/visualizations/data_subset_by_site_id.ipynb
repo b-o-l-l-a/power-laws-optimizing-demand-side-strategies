{
 "cells": [
  {
   "cell_type": "code",
   "execution_count": null,
   "metadata": {},
   "outputs": [],
   "source": [
    "import os\n",
    "import pandas as pd\n",
    "\n",
    "import utils"
   ]
  },
  {
   "cell_type": "code",
   "execution_count": null,
   "metadata": {},
   "outputs": [],
   "source": [
    "git_root_path = utils.get_git_root(os.getcwd())\n",
    "data_path = os.path.join(git_root_path, utils.DATA_DIR_NAME)\n",
    "training_csv_path = os.path.join(data_path, utils.TRAINING_FILENAME + \".\" + utils.INPUT_DATA_FORMAT)\n",
    "submit_csv_path = os.path.join(data_path, utils.SUBMIT_FILENAME + \".\" + utils.INPUT_DATA_FORMAT)\n",
    "submission_format_csv_path = os.path.join(data_path, utils.SUBMISSION_FORMAT_FILENAME + \".\" + utils.INPUT_DATA_FORMAT)\n",
    "metadata_csv_path = os.path.join(data_path, utils.METADATA_FILENAME + \".\" + utils.INPUT_DATA_FORMAT)"
   ]
  },
  {
   "cell_type": "code",
   "execution_count": null,
   "metadata": {},
   "outputs": [],
   "source": [
    "training_df = pd.read_csv(training_csv_path, sep = \";\")\n",
    "submission_df = pd.read_csv(submit_csv_path, sep=\";\")"
   ]
  },
  {
   "cell_type": "code",
   "execution_count": null,
   "metadata": {},
   "outputs": [],
   "source": [
    "site_ids = list(set(training_df[\"site_id\"].unique()) | set(submission_df[\"site_id\"].unique()))"
   ]
  },
  {
   "cell_type": "code",
   "execution_count": null,
   "metadata": {},
   "outputs": [],
   "source": [
    "train_site_data_dir = os.path.join(data_path, \"train\")\n",
    "submit_site_data_dir = os.path.join(data_path, \"submit\")\n",
    "for site_id in site_ids:\n",
    "    \n",
    "    site_train_df = training_df[training_df[\"site_id\"] == site_id]\n",
    "    site_submit_df = submission_df[submission_df[\"site_id\"] == site_id]\n",
    "    \n",
    "    site_train_csv_path = os.path.join(train_site_data_dir, str(site_id) + \".\" + utils.INPUT_DATA_FORMAT)\n",
    "    site_submit_csv_path = os.path.join(submit_site_data_dir, str(site_id) + \".\" + utils.INPUT_DATA_FORMAT)\n",
    "    \n",
    "    site_train_df.to_csv(site_train_csv_path, index=False)\n",
    "    site_submit_df.to_csv(site_submit_csv_path, index=False)\n",
    "    "
   ]
  },
  {
   "cell_type": "code",
   "execution_count": null,
   "metadata": {},
   "outputs": [],
   "source": []
  }
 ],
 "metadata": {
  "kernelspec": {
   "display_name": "Python 3",
   "language": "python",
   "name": "python3"
  },
  "language_info": {
   "codemirror_mode": {
    "name": "ipython",
    "version": 3
   },
   "file_extension": ".py",
   "mimetype": "text/x-python",
   "name": "python",
   "nbconvert_exporter": "python",
   "pygments_lexer": "ipython3",
   "version": "3.6.0"
  }
 },
 "nbformat": 4,
 "nbformat_minor": 2
}
