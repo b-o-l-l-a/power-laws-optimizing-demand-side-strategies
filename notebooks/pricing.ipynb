{
 "cells": [
  {
   "cell_type": "code",
   "execution_count": null,
   "metadata": {},
   "outputs": [],
   "source": [
    "import os\n",
    "import pandas as pd\n",
    "import matplotlib.pyplot as plt\n",
    "import seaborn as sns\n",
    "from datetime import timedelta\n",
    "import math\n",
    "\n",
    "import utils\n",
    "\n",
    "git_root_path = utils.get_git_root(os.getcwd())\n",
    "viz_root_path = os.path.join(git_root_path, utils.VIZ_DIR_NAME)\n",
    "data_path = os.path.join(git_root_path, utils.DATA_DIR_NAME)\n",
    "\n",
    "training_csv_path = os.path.join(data_path, utils.TRAINING_FILENAME + \".\" + utils.INPUT_DATA_FORMAT)\n",
    "training_df = pd.read_csv(training_csv_path, sep = \";\")"
   ]
  },
  {
   "cell_type": "code",
   "execution_count": null,
   "metadata": {},
   "outputs": [],
   "source": [
    "training_df[\"timestamp\"] = pd.to_datetime(training_df[\"timestamp\"])\n",
    "sites = training_df[\"site_id\"].unique()"
   ]
  },
  {
   "cell_type": "code",
   "execution_count": null,
   "metadata": {},
   "outputs": [],
   "source": [
    "for site in sites:\n",
    "    site_df = training_df[training_df[\"site_id\"] == site]\n",
    "    site_df = site_df.sort_values(\"timestamp\")\n",
    "    site_df = site_df.set_index(\"timestamp\")\n",
    "\n",
    "    periods = site_df[\"period_id\"].unique()\n",
    "\n",
    "    for period in periods:\n",
    "        period_df = site_df[site_df[\"period_id\"] == period]\n",
    "        num_weeks = math.ceil((max(period_df.index) - min(period_df.index)).days / 7)\n",
    "\n",
    "        start_timestamp = min(period_df.index)\n",
    "        print(\"-- period ID {}\".format(period))\n",
    "\n",
    "        fig_height = 4 * num_weeks\n",
    "        sns.set(rc={'figure.figsize':(14, fig_height)})\n",
    "\n",
    "        fig = plt.figure()\n",
    "\n",
    "        for i in range(1, num_weeks + 1):\n",
    "            start_dt_str = start_timestamp.strftime('%m-%d-%Y')\n",
    "            end_dt_str = (start_timestamp + timedelta(days=7)).strftime('%m-%d-%Y')\n",
    "            weekly_df = period_df[(period_df.index >= start_timestamp) \\\n",
    "                & (period_df.index < start_timestamp + timedelta(days=7))]\n",
    "\n",
    "            weekly_plot = fig.add_subplot(num_weeks, 1, i)\n",
    "            weekly_plot = plt.plot('price_buy_00', data=weekly_df, linewidth=1, label=\"Buy\")\n",
    "            weekly_plot = plt.plot('price_sell_00', data=weekly_df, linewidth=1, label=\"Sell\")\n",
    "            weekly_plot = plt.legend(bbox_to_anchor=(1.04,0.5), loc=\"center left\", borderaxespad=0)\n",
    "            weekly_plot = plt.title(\"Site ID: {site} / Period ID: {period} \\n{start_dt_str} - {end_dt_str}\".format(**locals()))\n",
    "            fig.subplots_adjust(hspace = 0.5)\n",
    "            del(weekly_plot)\n",
    "\n",
    "            start_timestamp = start_timestamp + timedelta(days=7)\n",
    "\n",
    "        #fig.subplots_adjust(top = 2.0)\n",
    "        viz_dir = os.path.join(viz_root_path, \"price\", \"Site {}\".format(site), \"\")\n",
    "        filename = \"Period {}.png\".format(period)\n",
    "        if not os.path.exists(viz_dir):\n",
    "            os.makedirs(viz_dir)\n",
    "\n",
    "        fig.savefig(os.path.join(viz_dir, filename))\n",
    "        plt.close(fig)"
   ]
  },
  {
   "cell_type": "code",
   "execution_count": null,
   "metadata": {
    "scrolled": true
   },
   "outputs": [],
   "source": [
    "period_df[[\"price_sell_00\", \"price_buy_00\"]]"
   ]
  },
  {
   "cell_type": "code",
   "execution_count": null,
   "metadata": {},
   "outputs": [],
   "source": [
    "start_timestamp = min(period_df.index)\n",
    "print(\"-- period ID {}\".format(period))\n",
    "\n",
    "fig_height = 4 * num_weeks\n",
    "sns.set(rc={'figure.figsize':(14, fig_height)})\n",
    "\n",
    "fig = plt.figure()\n",
    "\n",
    "for i in range(1, num_weeks + 1):\n",
    "    start_dt_str = start_timestamp.strftime('%m-%d-%Y')\n",
    "    end_dt_str = (start_timestamp + timedelta(days=7)).strftime('%m-%d-%Y')\n",
    "    weekly_df = period_df[(period_df.index >= start_timestamp) \\\n",
    "        & (period_df.index < start_timestamp + timedelta(days=7))]\n",
    "\n",
    "    weekly_plot = fig.add_subplot(num_weeks, 1, i)\n",
    "    weekly_plot = plt.plot('price_buy_00', data=weekly_df, linewidth=1, label=\"Buy\")\n",
    "    weekly_plot = plt.plot('price_sell_00', data=weekly_df, linewidth=1, label=\"Sell\")\n",
    "    weekly_plot = plt.legend(bbox_to_anchor=(1.04,0.5), loc=\"center left\", borderaxespad=0)\n",
    "    weekly_plot = plt.title(\"Site ID: {site} / Period ID: {period} \\n{start_dt_str} - {end_dt_str}\".format(**locals()))\n",
    "    fig.subplots_adjust(hspace = 0.5)\n",
    "    del(weekly_plot)\n",
    "\n",
    "    start_timestamp = start_timestamp + timedelta(days=7)\n",
    "\n",
    "#fig.subplots_adjust(top = 2.0)\n",
    "viz_dir = os.path.join(viz_root_path, str(site), \"price\", \"\")\n",
    "filename = \"Period {}.png\".format(period)\n",
    "if not os.path.exists(viz_dir):\n",
    "    os.makedirs(viz_dir)\n",
    "\n",
    "fig.savefig(os.path.join(viz_dir, filename))\n",
    "plt.close(fig)"
   ]
  },
  {
   "cell_type": "code",
   "execution_count": null,
   "metadata": {},
   "outputs": [],
   "source": [
    "viz_dir"
   ]
  },
  {
   "cell_type": "code",
   "execution_count": null,
   "metadata": {},
   "outputs": [],
   "source": []
  }
 ],
 "metadata": {
  "kernelspec": {
   "display_name": "Python 3",
   "language": "python",
   "name": "python3"
  },
  "language_info": {
   "codemirror_mode": {
    "name": "ipython",
    "version": 3
   },
   "file_extension": ".py",
   "mimetype": "text/x-python",
   "name": "python",
   "nbconvert_exporter": "python",
   "pygments_lexer": "ipython3",
   "version": "3.6.0"
  }
 },
 "nbformat": 4,
 "nbformat_minor": 2
}
