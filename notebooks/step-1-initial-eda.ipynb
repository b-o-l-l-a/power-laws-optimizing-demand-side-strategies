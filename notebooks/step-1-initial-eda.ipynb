{
 "cells": [
  {
   "cell_type": "code",
   "execution_count": null,
   "metadata": {},
   "outputs": [],
   "source": [
    "import os\n",
    "import pandas as pd\n",
    "import matplotlib.pyplot as plt\n",
    "import seaborn as sns\n",
    "from datetime import timedelta\n",
    "\n",
    "import utils"
   ]
  },
  {
   "cell_type": "code",
   "execution_count": null,
   "metadata": {},
   "outputs": [],
   "source": [
    "git_root_path = utils.get_git_root(os.getcwd())\n",
    "data_path = os.path.join(git_root_path, utils.DATA_DIR_NAME)\n",
    "\n",
    "training_csv_path = os.path.join(data_path, utils.TRAINING_FILENAME + \".\" + utils.INPUT_DATA_FORMAT)\n",
    "submit_csv_path = os.path.join(data_path, utils.SUBMIT_FILENAME + \".\" + utils.INPUT_DATA_FORMAT)\n",
    "submission_format_csv_path = os.path.join(data_path, utils.SUBMISSION_FORMAT_FILENAME + \".\" + utils.INPUT_DATA_FORMAT)\n",
    "metadata_csv_path = os.path.join(data_path, utils.METADATA_FILENAME + \".\" + utils.INPUT_DATA_FORMAT)\n"
   ]
  },
  {
   "cell_type": "code",
   "execution_count": null,
   "metadata": {},
   "outputs": [],
   "source": [
    "training_df = pd.read_csv(training_csv_path, sep = \";\")\n",
    "submission_df = pd.read_csv(submit_csv_path, sep=\";\")\n",
    "metadata_df = pd.read_csv(metadata_csv_path, sep=\";\", index_col = 0).sort_index()\n",
    "submission_format_df = pd.read_csv(submission_format_csv_path, sep=\";\", index_col = 0).sort_index()"
   ]
  },
  {
   "cell_type": "code",
   "execution_count": null,
   "metadata": {},
   "outputs": [],
   "source": [
    "training_df[\"timestamp\"] = pd.to_datetime(training_df[\"timestamp\"])\n",
    "site_id = 2\n",
    "site_id_training_df = training_df[training_df[\"site_id\"] == site_id]\n",
    "site_id_training_df = site_id_training_df.sort_values(\"timestamp\")\n",
    "site_id_training_df = site_id_training_df.set_index(\"timestamp\")"
   ]
  },
  {
   "cell_type": "code",
   "execution_count": null,
   "metadata": {},
   "outputs": [],
   "source": [
    "site_id_training_df.tail()"
   ]
  },
  {
   "cell_type": "code",
   "execution_count": null,
   "metadata": {},
   "outputs": [],
   "source": [
    "site_id_training_df.period_id.unique()"
   ]
  },
  {
   "cell_type": "code",
   "execution_count": null,
   "metadata": {},
   "outputs": [],
   "source": [
    "#https://www.dataquest.io/blog/tutorial-time-series-analysis-with-pandas/\n",
    "sns.set(rc={'figure.figsize':(14, 16)})\n",
    "period_id = 3\n",
    "site_id_by_period = site_id_training_df[site_id_training_df[\"period_id\"] == period_id]\n",
    "site_id_by_period['actual_consumption'].plot(linewidth=0.5);"
   ]
  },
  {
   "cell_type": "code",
   "execution_count": null,
   "metadata": {},
   "outputs": [],
   "source": [
    "for i in range(1, 7):\n",
    "    print(i)"
   ]
  },
  {
   "cell_type": "code",
   "execution_count": null,
   "metadata": {},
   "outputs": [],
   "source": []
  },
  {
   "cell_type": "code",
   "execution_count": null,
   "metadata": {},
   "outputs": [],
   "source": []
  },
  {
   "cell_type": "code",
   "execution_count": null,
   "metadata": {},
   "outputs": [],
   "source": []
  },
  {
   "cell_type": "code",
   "execution_count": null,
   "metadata": {},
   "outputs": [],
   "source": [
    "#min(site_id_by_period.index) + timedelta(days=7)\n",
    "(max(site_id_by_period.index) - min(site_id_by_period.index)).days / 7"
   ]
  },
  {
   "cell_type": "code",
   "execution_count": null,
   "metadata": {},
   "outputs": [],
   "source": [
    "start_dt_str = min(site_id_by_period.index).strftime('%m/%d/%Y')\n",
    "end_dt_str = (min(site_id_by_period.index) + timedelta(days=7)).strftime('%m/%d/%Y')\n",
    "weekly_site_id_by_period = site_id_by_period[(site_id_by_period.index >= min(site_id_by_period.index)) \\\n",
    "                                             & (site_id_by_period.index < min(site_id_by_period.index) + timedelta(days=7))]\n",
    "\n",
    "fig = plt.figure()\n",
    "weekly_plot = fig.add_subplot(6, 1, 1)\n",
    "weekly_plot = plt.plot('actual_consumption', data=weekly_site_id_by_period, linewidth=1, label=\"Load\")\n",
    "weekly_plot = plt.plot('actual_pv', data=weekly_site_id_by_period, linewidth=1, label=\"PV\")\n",
    "# plt.plot( 'x', 'y2', data=df, marker='', color='olive', linewidth=2)\n",
    "# plt.plot( 'x', 'y3', data=df, marker='', color='olive', linewidth=2, linestyle='dashed', label=\"toto\")\n",
    "weekly_plot = plt.legend(bbox_to_anchor=(1.04,0.5), loc=\"center left\", borderaxespad=0)\n",
    "weekly_plot = plt.title(\"Site ID: {site_id} / Period ID: {period_id} \\n{start_dt_str} - {end_dt_str}\".format(**locals()))\n",
    "\n",
    "weekly_site_id_by_period_2 = site_id_by_period[(site_id_by_period.index >= min(site_id_by_period.index) + timedelta(days=7)) \\\n",
    "                                             & (site_id_by_period.index < min(site_id_by_period.index) + timedelta(days=14))]\n",
    "\n",
    "fig.subplots_adjust(hspace = 0.3)\n",
    "\n",
    "start_dt_str = (min(site_id_by_period.index) + timedelta(days=7)).strftime('%m/%d/%Y')\n",
    "end_dt_str = (min(site_id_by_period.index) + timedelta(days=14)).strftime('%m/%d/%Y')\n",
    "\n",
    "del(weekly_plot)\n",
    "weekly_plot = fig.add_subplot(6, 1, 2)\n",
    "weekly_plot = plt.plot('actual_consumption', data=weekly_site_id_by_period_2, linewidth=1, label=\"Load\")\n",
    "weekly_plot = plt.plot('actual_pv', data=weekly_site_id_by_period_2, linewidth=1, label=\"PV\")\n",
    "# plt.plot( 'x', 'y2', data=df, marker='', color='olive', linewidth=2)\n",
    "# plt.plot( 'x', 'y3', data=df, marker='', color='olive', linewidth=2, linestyle='dashed', label=\"toto\")\n",
    "weekly_plot = plt.legend(bbox_to_anchor=(1.04,0.5), loc=\"center left\", borderaxespad=0)\n",
    "weekly_plot = plt.title(\"Site ID: {site_id} / Period ID: {period_id} \\n{start_dt_str} - {end_dt_str}\".format(**locals()))\n",
    "\n",
    "weekly_plot = fig.add_subplot(6, 1, 3)\n",
    "weekly_plot = plt.plot('actual_consumption', data=weekly_site_id_by_period, linewidth=1, label=\"Load\")\n",
    "weekly_plot = plt.plot('actual_pv', data=weekly_site_id_by_period, linewidth=1, label=\"PV\")\n",
    "# plt.plot( 'x', 'y2', data=df, marker='', color='olive', linewidth=2)\n",
    "# plt.plot( 'x', 'y3', data=df, marker='', color='olive', linewidth=2, linestyle='dashed', label=\"toto\")\n",
    "weekly_plot = plt.legend(bbox_to_anchor=(1.04,0.5), loc=\"center left\", borderaxespad=0)\n",
    "weekly_plot = plt.title(\"Site ID: {site_id} / Period ID: {period_id} \\n{start_dt_str} - {end_dt_str}\".format(**locals()))\n",
    "\n",
    "weekly_site_id_by_period_2 = site_id_by_period[(site_id_by_period.index >= min(site_id_by_period.index) + timedelta(days=7)) \\\n",
    "                                             & (site_id_by_period.index < min(site_id_by_period.index) + timedelta(days=14))]\n",
    "\n",
    "#fig.subplots_adjust(top = 2.0)\n",
    "\n",
    "start_dt_str = (min(site_id_by_period.index) + timedelta(days=7)).strftime('%m/%d/%Y')\n",
    "end_dt_str = (min(site_id_by_period.index) + timedelta(days=14)).strftime('%m/%d/%Y')\n",
    "\n",
    "weekly_plot_2 = fig.add_subplot(6, 1, 4)\n",
    "weekly_plot_2 = plt.plot('actual_consumption', data=weekly_site_id_by_period_2, linewidth=1, label=\"Load\")\n",
    "weekly_plot_2 = plt.plot('actual_pv', data=weekly_site_id_by_period_2, linewidth=1, label=\"PV\")\n",
    "# plt.plot( 'x', 'y2', data=df, marker='', color='olive', linewidth=2)\n",
    "# plt.plot( 'x', 'y3', data=df, marker='', color='olive', linewidth=2, linestyle='dashed', label=\"toto\")\n",
    "weekly_plot_2 = plt.legend(bbox_to_anchor=(1.04,0.5), loc=\"center left\", borderaxespad=0)\n",
    "weekly_plot_2 = plt.title(\"Site ID: {site_id} / Period ID: {period_id} \\n{start_dt_str} - {end_dt_str}\".format(**locals()))\n",
    "fig.savefig(\"./test.png\")\n",
    "\n",
    "# weekly_site_id_by_period['actual_consumption'].plot(linewidth=1);"
   ]
  },
  {
   "cell_type": "code",
   "execution_count": null,
   "metadata": {},
   "outputs": [],
   "source": []
  },
  {
   "cell_type": "code",
   "execution_count": null,
   "metadata": {},
   "outputs": [],
   "source": []
  },
  {
   "cell_type": "code",
   "execution_count": null,
   "metadata": {},
   "outputs": [],
   "source": [
    "cols_plot = ['actual_consumption', 'actual_pv']\n",
    "axes = site_id_by_period[cols_plot].plot(marker='.', alpha=0.5, linestyle='None', figsize=(14, 9), subplots=True)\n",
    "# for ax in axes:\n",
    "#     ax.set_ylabel('Daily Totals')"
   ]
  },
  {
   "cell_type": "code",
   "execution_count": null,
   "metadata": {},
   "outputs": [],
   "source": [
    "metadata_df.head()"
   ]
  },
  {
   "cell_type": "code",
   "execution_count": null,
   "metadata": {
    "scrolled": true
   },
   "outputs": [],
   "source": [
    "submission_format_df.sort_index()"
   ]
  },
  {
   "cell_type": "code",
   "execution_count": null,
   "metadata": {},
   "outputs": [],
   "source": [
    "#training_df = training_df.set_index([\"timestamp\", \"period_id\", \"site_id\"])\n",
    "per_1_training_df = training_df.iloc[training_df.index.get_level_values('period_id') == 1]\n",
    "per_1_training_df = per_1_training_df.sort_index(level=\"site_id\")\n",
    "per_1_training_df_subset = per_1_training_df[[\"actual_consumption\", \"actual_pv\", \"price_buy_00\", \"price_sell_00\"]]\n",
    "#grid_energy_without_battery =  #* (price_without_battery / 1000.)\n",
    "per_1_training_df_subset[\"grid_energy_without_battery\"] = (per_1_training_df_subset[\"actual_consumption\"] - per_1_training_df_subset[\"actual_pv\"]).astype(float)\n",
    "\n",
    "def get_money_spent_without_batt(row):\n",
    "    \n",
    "    print(row)\n",
    "    price =  float(row[\"price_buy_00\"]) \\\n",
    "        if float(row[\"grid_energy_without_battery\"] > 0) \\\n",
    "        else float(row[\"price_sell_00\"])\n",
    "    \n",
    "    return ((price / 1000.) * float(row[\"grid_energy_without_battery\"]))\n",
    "        \n",
    "\n",
    "per_1_training_df_subset[\"money_spent_without_battery\"] = per_1_training_df_subset.apply(lambda x: get_money_spent_without_batt(x))\n",
    "per_1_training_df_subset.head()"
   ]
  },
  {
   "cell_type": "code",
   "execution_count": null,
   "metadata": {},
   "outputs": [],
   "source": [
    "per_1_training_df_subset.to_csv(os.path.join(data_path, \"exploration\", \"period_1_training.csv\"))\n"
   ]
  },
  {
   "cell_type": "code",
   "execution_count": null,
   "metadata": {},
   "outputs": [],
   "source": [
    "submission_df[[\"timestamp\", \"period_id\", \"site_id\", \"actual_consumption\", \"load_00\", \"actual_pv\", \"pv_00\", \"price_buy_01\", \"price_sell_01\"]].head()"
   ]
  },
  {
   "cell_type": "code",
   "execution_count": null,
   "metadata": {},
   "outputs": [],
   "source": [
    "sorted(training_df[\"site_id\"].unique())"
   ]
  },
  {
   "cell_type": "code",
   "execution_count": null,
   "metadata": {},
   "outputs": [],
   "source": [
    "metadata_df = pd.read_csv(metadata_csv_path, sep = \";\")"
   ]
  },
  {
   "cell_type": "code",
   "execution_count": null,
   "metadata": {},
   "outputs": [],
   "source": [
    "metadata_df"
   ]
  },
  {
   "cell_type": "code",
   "execution_count": null,
   "metadata": {},
   "outputs": [],
   "source": [
    "site_ids = sorted(submission_df[\"site_id\"].unique())"
   ]
  },
  {
   "cell_type": "code",
   "execution_count": null,
   "metadata": {},
   "outputs": [],
   "source": [
    "import math\n",
    "math.sqrt(.95)"
   ]
  },
  {
   "cell_type": "code",
   "execution_count": null,
   "metadata": {},
   "outputs": [],
   "source": []
  }
 ],
 "metadata": {
  "kernelspec": {
   "display_name": "Python 3",
   "language": "python",
   "name": "python3"
  },
  "language_info": {
   "codemirror_mode": {
    "name": "ipython",
    "version": 3
   },
   "file_extension": ".py",
   "mimetype": "text/x-python",
   "name": "python",
   "nbconvert_exporter": "python",
   "pygments_lexer": "ipython3",
   "version": "3.6.0"
  }
 },
 "nbformat": 4,
 "nbformat_minor": 2
}
