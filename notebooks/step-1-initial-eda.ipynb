{
 "cells": [
  {
   "cell_type": "code",
   "execution_count": null,
   "metadata": {},
   "outputs": [],
   "source": [
    "import os\n",
    "import pandas as pd\n",
    "\n",
    "import utils"
   ]
  },
  {
   "cell_type": "code",
   "execution_count": null,
   "metadata": {},
   "outputs": [],
   "source": [
    "git_root_path = utils.get_git_root(os.getcwd())\n",
    "data_path = os.path.join(git_root_path, utils.DATA_DIR_NAME)\n",
    "\n",
    "training_csv_path = os.path.join(data_path, utils.TRAINING_FILENAME + \".\" + utils.INPUT_DATA_FORMAT)\n",
    "submit_csv_path = os.path.join(data_path, utils.SUBMIT_FILENAME + \".\" + utils.INPUT_DATA_FORMAT)\n",
    "submission_format_csv_path = os.path.join(data_path, utils.SUBMISSION_FORMAT_FILENAME + \".\" + utils.INPUT_DATA_FORMAT)\n",
    "metadata_csv_path = os.path.join(data_path, utils.METADATA_FILENAME + \".\" + utils.INPUT_DATA_FORMAT)\n"
   ]
  },
  {
   "cell_type": "code",
   "execution_count": null,
   "metadata": {},
   "outputs": [],
   "source": [
    "training_df = pd.read_csv(training_csv_path, sep = \";\")\n",
    "submission_df = pd.read_csv(submit_csv_path, sep=\";\")\n",
    "metadata_df = pd.read_csv(metadata_csv_path, sep=\";\", index_col = 0).sort_index()\n",
    "submission_format_df = pd.read_csv(submission_format_csv_path, sep=\";\", index_col = 0).sort_index()"
   ]
  },
  {
   "cell_type": "code",
   "execution_count": null,
   "metadata": {},
   "outputs": [],
   "source": [
    "metadata_df.head()"
   ]
  },
  {
   "cell_type": "code",
   "execution_count": null,
   "metadata": {
    "scrolled": true
   },
   "outputs": [],
   "source": [
    "submission_format_df.sort_index()"
   ]
  },
  {
   "cell_type": "code",
   "execution_count": null,
   "metadata": {},
   "outputs": [],
   "source": [
    "#training_df = training_df.set_index([\"timestamp\", \"period_id\", \"site_id\"])\n",
    "per_1_training_df = training_df.iloc[training_df.index.get_level_values('period_id') == 1]\n",
    "per_1_training_df = per_1_training_df.sort_index(level=\"site_id\")\n",
    "per_1_training_df_subset = per_1_training_df[[\"actual_consumption\", \"actual_pv\", \"price_buy_00\", \"price_sell_00\"]]\n",
    "#grid_energy_without_battery =  #* (price_without_battery / 1000.)\n",
    "per_1_training_df_subset[\"grid_energy_without_battery\"] = (per_1_training_df_subset[\"actual_consumption\"] - per_1_training_df_subset[\"actual_pv\"]).astype(float)\n",
    "\n",
    "def get_money_spent_without_batt(row):\n",
    "    \n",
    "    print(row)\n",
    "    price =  float(row[\"price_buy_00\"]) \\\n",
    "        if float(row[\"grid_energy_without_battery\"] > 0) \\\n",
    "        else float(row[\"price_sell_00\"])\n",
    "    \n",
    "    return ((price / 1000.) * float(row[\"grid_energy_without_battery\"]))\n",
    "        \n",
    "\n",
    "per_1_training_df_subset[\"money_spent_without_battery\"] = per_1_training_df_subset.apply(lambda x: get_money_spent_without_batt(x))\n",
    "per_1_training_df_subset.head()"
   ]
  },
  {
   "cell_type": "code",
   "execution_count": null,
   "metadata": {},
   "outputs": [],
   "source": [
    "per_1_training_df_subset.to_csv(os.path.join(data_path, \"exploration\", \"period_1_training.csv\"))\n"
   ]
  },
  {
   "cell_type": "code",
   "execution_count": null,
   "metadata": {},
   "outputs": [],
   "source": [
    "submission_df[[\"timestamp\", \"period_id\", \"site_id\", \"actual_consumption\", \"load_00\", \"actual_pv\", \"pv_00\", \"price_buy_01\", \"price_sell_01\"]].head()"
   ]
  },
  {
   "cell_type": "code",
   "execution_count": null,
   "metadata": {},
   "outputs": [],
   "source": [
    "sorted(training_df[\"site_id\"].unique())"
   ]
  },
  {
   "cell_type": "code",
   "execution_count": null,
   "metadata": {},
   "outputs": [],
   "source": [
    "metadata_df = pd.read_csv(metadata_csv_path, sep = \";\")"
   ]
  },
  {
   "cell_type": "code",
   "execution_count": null,
   "metadata": {},
   "outputs": [],
   "source": [
    "metadata_df"
   ]
  },
  {
   "cell_type": "code",
   "execution_count": null,
   "metadata": {},
   "outputs": [],
   "source": [
    "site_ids = sorted(submission_df[\"site_id\"].unique())"
   ]
  }
 ],
 "metadata": {
  "kernelspec": {
   "display_name": "Python 3",
   "language": "python",
   "name": "python3"
  },
  "language_info": {
   "codemirror_mode": {
    "name": "ipython",
    "version": 3
   },
   "file_extension": ".py",
   "mimetype": "text/x-python",
   "name": "python",
   "nbconvert_exporter": "python",
   "pygments_lexer": "ipython3",
   "version": "3.6.5"
  }
 },
 "nbformat": 4,
 "nbformat_minor": 2
}
