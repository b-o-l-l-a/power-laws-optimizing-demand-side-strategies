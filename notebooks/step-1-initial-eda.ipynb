{
 "cells": [
  {
   "cell_type": "code",
   "execution_count": null,
   "metadata": {},
   "outputs": [],
   "source": [
    "import os\n",
    "import pandas as pd\n",
    "\n",
    "import utils"
   ]
  },
  {
   "cell_type": "code",
   "execution_count": null,
   "metadata": {},
   "outputs": [],
   "source": [
    "git_root_path = utils.get_git_root(os.getcwd())\n",
    "data_path = os.path.join(git_root_path, utils.DATA_DIR_NAME)\n",
    "\n",
    "training_csv_path = os.path.join(data_path, utils.TRAINING_FILENAME + \".\" + utils.INPUT_DATA_FORMAT)\n",
    "submit_csv_path = os.path.join(data_path, utils.SUBMIT_FILENAME + \".\" + utils.INPUT_DATA_FORMAT)\n",
    "submission_format_csv_path = os.path.join(data_path, utils.SUBMISSION_FORMAT_FILENAME + \".\" + utils.INPUT_DATA_FORMAT)\n",
    "metadata_csv_path = os.path.join(data_path, utils.METADATA_FILENAME + \".\" + utils.INPUT_DATA_FORMAT)\n"
   ]
  },
  {
   "cell_type": "code",
   "execution_count": null,
   "metadata": {},
   "outputs": [],
   "source": [
    "training_df = pd.read_csv(training_csv_path, sep = \";\")\n",
    "submission_df = pd.read_csv(submit_csv_path, sep=\";\")\n",
    "metadata_df = pd.read_csv(metadata_csv_path, sep=\";\", index_col = 0)\n",
    "submission_format_df = pd.read_csv(submission_format_csv_path, sep=\";\", index_col = 0)"
   ]
  },
  {
   "cell_type": "code",
   "execution_count": null,
   "metadata": {},
   "outputs": [],
   "source": [
    "metadata_df"
   ]
  },
  {
   "cell_type": "code",
   "execution_count": null,
   "metadata": {},
   "outputs": [],
   "source": [
    "submission_format_df"
   ]
  },
  {
   "cell_type": "code",
   "execution_count": null,
   "metadata": {},
   "outputs": [],
   "source": [
    "training_df[[\"timestamp\", \"period_id\", \"site_id\", \"actual_consumption\", \"load_00\", \"actual_pv\", \"pv_00\", \"price_buy_01\", \"price_sell_01\"]].head()"
   ]
  },
  {
   "cell_type": "code",
   "execution_count": null,
   "metadata": {},
   "outputs": [],
   "source": [
    "submission_df[[\"timestamp\", \"period_id\", \"site_id\", \"actual_consumption\", \"load_00\", \"actual_pv\", \"pv_00\", \"price_buy_01\", \"price_sell_01\"]].head()"
   ]
  },
  {
   "cell_type": "code",
   "execution_count": null,
   "metadata": {},
   "outputs": [],
   "source": [
    "sorted(training_df[\"site_id\"].unique())"
   ]
  },
  {
   "cell_type": "code",
   "execution_count": null,
   "metadata": {},
   "outputs": [],
   "source": [
    "metadata_df = pd.read_csv(metadata_csv_path, sep = \";\")"
   ]
  },
  {
   "cell_type": "code",
   "execution_count": null,
   "metadata": {},
   "outputs": [],
   "source": [
    "metadata_df"
   ]
  },
  {
   "cell_type": "code",
   "execution_count": null,
   "metadata": {},
   "outputs": [],
   "source": [
    "site_ids = sorted(submission_df[\"site_id\"].unique())"
   ]
  }
 ],
 "metadata": {
  "kernelspec": {
   "display_name": "Python 3",
   "language": "python",
   "name": "python3"
  },
  "language_info": {
   "codemirror_mode": {
    "name": "ipython",
    "version": 3
   },
   "file_extension": ".py",
   "mimetype": "text/x-python",
   "name": "python",
   "nbconvert_exporter": "python",
   "pygments_lexer": "ipython3",
   "version": "3.6.5"
  }
 },
 "nbformat": 4,
 "nbformat_minor": 2
}
